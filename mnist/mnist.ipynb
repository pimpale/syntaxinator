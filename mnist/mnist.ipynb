{
 "cells": [
  {
   "cell_type": "code",
   "execution_count": 12,
   "metadata": {},
   "outputs": [],
   "source": [
    "import torch\n",
    "import torch.nn as nn\n",
    "import torch.nn.functional as F\n",
    "import numpy as np\n",
    "from torchvision import datasets, transforms"
   ]
  },
  {
   "cell_type": "code",
   "execution_count": 2,
   "metadata": {},
   "outputs": [
    {
     "name": "stdout",
     "output_type": "stream",
     "text": [
      "Downloading http://yann.lecun.com/exdb/mnist/train-images-idx3-ubyte.gz\n",
      "Downloading http://yann.lecun.com/exdb/mnist/train-images-idx3-ubyte.gz to data/MNIST/raw/train-images-idx3-ubyte.gz\n"
     ]
    },
    {
     "name": "stderr",
     "output_type": "stream",
     "text": [
      "100%|██████████| 9912422/9912422 [00:00<00:00, 27396564.50it/s]\n"
     ]
    },
    {
     "name": "stdout",
     "output_type": "stream",
     "text": [
      "Extracting data/MNIST/raw/train-images-idx3-ubyte.gz to data/MNIST/raw\n",
      "\n",
      "Downloading http://yann.lecun.com/exdb/mnist/train-labels-idx1-ubyte.gz\n",
      "Downloading http://yann.lecun.com/exdb/mnist/train-labels-idx1-ubyte.gz to data/MNIST/raw/train-labels-idx1-ubyte.gz\n"
     ]
    },
    {
     "name": "stderr",
     "output_type": "stream",
     "text": [
      "100%|██████████| 28881/28881 [00:00<00:00, 94785362.93it/s]"
     ]
    },
    {
     "name": "stdout",
     "output_type": "stream",
     "text": [
      "Extracting data/MNIST/raw/train-labels-idx1-ubyte.gz to data/MNIST/raw\n",
      "\n",
      "Downloading http://yann.lecun.com/exdb/mnist/t10k-images-idx3-ubyte.gz\n"
     ]
    },
    {
     "name": "stderr",
     "output_type": "stream",
     "text": [
      "\n"
     ]
    },
    {
     "name": "stdout",
     "output_type": "stream",
     "text": [
      "Downloading http://yann.lecun.com/exdb/mnist/t10k-images-idx3-ubyte.gz to data/MNIST/raw/t10k-images-idx3-ubyte.gz\n"
     ]
    },
    {
     "name": "stderr",
     "output_type": "stream",
     "text": [
      "100%|██████████| 1648877/1648877 [00:00<00:00, 28145529.64it/s]\n"
     ]
    },
    {
     "name": "stdout",
     "output_type": "stream",
     "text": [
      "Extracting data/MNIST/raw/t10k-images-idx3-ubyte.gz to data/MNIST/raw\n",
      "\n",
      "Downloading http://yann.lecun.com/exdb/mnist/t10k-labels-idx1-ubyte.gz\n",
      "Downloading http://yann.lecun.com/exdb/mnist/t10k-labels-idx1-ubyte.gz to data/MNIST/raw/t10k-labels-idx1-ubyte.gz\n"
     ]
    },
    {
     "name": "stderr",
     "output_type": "stream",
     "text": [
      "100%|██████████| 4542/4542 [00:00<00:00, 41504419.97it/s]"
     ]
    },
    {
     "name": "stdout",
     "output_type": "stream",
     "text": [
      "Extracting data/MNIST/raw/t10k-labels-idx1-ubyte.gz to data/MNIST/raw\n",
      "\n"
     ]
    },
    {
     "name": "stderr",
     "output_type": "stream",
     "text": [
      "\n"
     ]
    }
   ],
   "source": [
    "# download mnist data\n",
    "train_data = datasets.MNIST(root='data', train=True, download=True, transform=transforms.ToTensor())\n",
    "test_data = datasets.MNIST(root='data', train=False, download=True, transform=transforms.ToTensor())\n",
    "\n",
    "# create data loaders\n",
    "train_loader = torch.utils.data.DataLoader(train_data, batch_size=64, shuffle=True)\n",
    "test_loader = torch.utils.data.DataLoader(test_data, batch_size=64, shuffle=True)\n"
   ]
  },
  {
   "cell_type": "code",
   "execution_count": 3,
   "metadata": {},
   "outputs": [],
   "source": [
    "# define model\n",
    "class Net(nn.Module):\n",
    "    def __init__(self):\n",
    "        super().__init__()\n",
    "        self.fc1 = nn.Linear(784, 128)  # 28*28=784\n",
    "        self.fc2 = nn.Linear(128, 64)\n",
    "        self.fc3 = nn.Linear(64, 10)  # 10 classes\n",
    "\n",
    "    def forward(self, x):\n",
    "        # flatten input tensor\n",
    "        x = x.view(x.shape[0], -1)\n",
    "\n",
    "        # add hidden layer, with relu activation function\n",
    "        x = F.relu(self.fc1(x))\n",
    "        x = F.relu(self.fc2(x))\n",
    "\n",
    "        # add output layer\n",
    "        x = F.log_softmax(self.fc3(x), dim=1)\n",
    "\n",
    "        return x"
   ]
  },
  {
   "cell_type": "code",
   "execution_count": 4,
   "metadata": {},
   "outputs": [],
   "source": [
    "device = torch.device(\"cuda\" if torch.cuda.is_available() else \"cpu\")\n",
    "\n",
    "# create model\n",
    "model = Net().to(device)\n",
    "\n",
    "# create optimizer\n",
    "optimizer = torch.optim.SGD(model.parameters(), lr=0.01)"
   ]
  },
  {
   "cell_type": "code",
   "execution_count": 5,
   "metadata": {},
   "outputs": [
    {
     "name": "stdout",
     "output_type": "stream",
     "text": [
      "Training loss: 1.72916854425534\n",
      "Training loss: 0.5922086115584952\n",
      "Training loss: 0.40762111740008095\n",
      "Training loss: 0.3477827927022219\n",
      "Training loss: 0.31617112039947814\n",
      "Training loss: 0.29445541658794194\n",
      "Training loss: 0.27606945732699784\n",
      "Training loss: 0.2597850672940392\n",
      "Training loss: 0.24485621031826493\n",
      "Training loss: 0.23124323215788362\n"
     ]
    }
   ],
   "source": [
    "# train model\n",
    "epochs = 10\n",
    "for e in range(epochs):\n",
    "    running_loss = 0\n",
    "    for images, labels in train_loader:\n",
    "        # move tensors to device\n",
    "        images, labels = images.to(device), labels.to(device)\n",
    "\n",
    "        # clear gradients\n",
    "        optimizer.zero_grad()\n",
    "\n",
    "        # forward pass\n",
    "        output = model(images)\n",
    "\n",
    "        # calculate loss\n",
    "        loss = F.nll_loss(output, labels)\n",
    "\n",
    "        # backward pass\n",
    "        loss.backward()\n",
    "\n",
    "        # update weights\n",
    "        optimizer.step()\n",
    "\n",
    "        running_loss += loss.item()\n",
    "\n",
    "    else:\n",
    "        print(f\"Training loss: {running_loss/len(train_loader)}\")"
   ]
  },
  {
   "cell_type": "code",
   "execution_count": 8,
   "metadata": {},
   "outputs": [
    {
     "name": "stdout",
     "output_type": "stream",
     "text": [
      "Test loss: 0.220976379077146\n",
      "Test accuracy: 0.9393908977508545\n"
     ]
    }
   ],
   "source": [
    "# test model\n",
    "test_loss = 0\n",
    "accuracy = 0\n",
    "with torch.no_grad():\n",
    "    for images, labels in test_loader:\n",
    "        # move tensors to device\n",
    "        images, labels = images.to(device), labels.to(device)\n",
    "\n",
    "        # forward pass\n",
    "        output = model(images)\n",
    "\n",
    "        # calculate loss\n",
    "        test_loss += F.nll_loss(output, labels).item()\n",
    "\n",
    "        # calculate accuracy\n",
    "        ps = torch.exp(output)\n",
    "        top_p, top_class = ps.topk(1, dim=1)\n",
    "        equals = top_class == labels.view(*top_class.shape)\n",
    "        accuracy += torch.mean(equals.type(torch.FloatTensor))\n",
    "\n",
    "print(f\"Test loss: {test_loss/len(test_loader)}\")\n",
    "print(f\"Test accuracy: {accuracy/len(test_loader)}\")"
   ]
  },
  {
   "cell_type": "code",
   "execution_count": 7,
   "metadata": {},
   "outputs": [
    {
     "data": {
      "image/png": "[encoded data removed]",
      "text/plain": [
       "<Figure size 2500x400 with 20 Axes>"
      ]
     },
     "metadata": {},
     "output_type": "display_data"
    }
   ],
   "source": [
    "# show some examples\n",
    "import matplotlib.pyplot as plt\n",
    "import numpy as np\n",
    "\n",
    "images, labels = next(iter(test_loader))\n",
    "images, labels = images.to(device), labels.to(device)\n",
    "\n",
    "# get sample outputs\n",
    "output = model(images)\n",
    "# convert output probabilities to predicted class\n",
    "_, preds = torch.max(output, 1)\n",
    "\n",
    "# prep images for display\n",
    "images = images.cpu().numpy()\n",
    "\n",
    "# plot the images in the batch, along with predicted and true labels\n",
    "fig = plt.figure(figsize=(25, 4))\n",
    "for idx in np.arange(20):\n",
    "    ax = fig.add_subplot(2, 20//2, idx+1, xticks=[], yticks=[])\n",
    "    ax.imshow(np.squeeze(images[idx]), cmap='gray')\n",
    "    ax.set_title(f\"{preds[idx]} ({labels[idx]})\",\n",
    "                 color=(\"green\" if preds[idx]==labels[idx] else \"red\"))"
   ]
  },
  {
   "cell_type": "code",
   "execution_count": 14,
   "metadata": {},
   "outputs": [
    {
     "name": "stdout",
     "output_type": "stream",
     "text": [
      "Exported graph: graph(%input : Float(*, 1, 28, 28, strides=[784, 784, 28, 1], requires_grad=0, device=cuda:0),\n",
      "      %fc1.weight : Float(128, 784, strides=[784, 1], requires_grad=1, device=cuda:0),\n",
      "      %fc1.bias : Float(128, strides=[1], requires_grad=1, device=cuda:0),\n",
      "      %fc2.weight : Float(64, 128, strides=[128, 1], requires_grad=1, device=cuda:0),\n",
      "      %fc2.bias : Float(64, strides=[1], requires_grad=1, device=cuda:0),\n",
      "      %fc3.weight : Float(10, 64, strides=[64, 1], requires_grad=1, device=cuda:0),\n",
      "      %fc3.bias : Float(10, strides=[1], requires_grad=1, device=cuda:0)):\n",
      "  %/Shape_output_0 : Long(4, strides=[1], device=cpu) = onnx::Shape[onnx_name=\"/Shape\"](%input), scope: __main__.Net:: # /tmp/ipykernel_25477/3576900102.py:11:0\n",
      "  %/Constant_output_0 : Long(device=cpu) = onnx::Constant[value={0}, onnx_name=\"/Constant\"](), scope: __main__.Net:: # /tmp/ipykernel_25477/3576900102.py:11:0\n",
      "  %/Gather_output_0 : Long(device=cpu) = onnx::Gather[axis=0, onnx_name=\"/Gather\"](%/Shape_output_0, %/Constant_output_0), scope: __main__.Net:: # /tmp/ipykernel_25477/3576900102.py:11:0\n",
      "  %onnx::Unsqueeze_11 : Long(1, strides=[1], device=cpu) = onnx::Constant[value={0}]()\n",
      "  %/Unsqueeze_output_0 : Long(1, strides=[1], device=cpu) = onnx::Unsqueeze[onnx_name=\"/Unsqueeze\"](%/Gather_output_0, %onnx::Unsqueeze_11), scope: __main__.Net::\n",
      "  %/Constant_1_output_0 : Long(1, strides=[1], requires_grad=0, device=cpu) = onnx::Constant[value={-1}, onnx_name=\"/Constant_1\"](), scope: __main__.Net::\n",
      "  %/Concat_output_0 : Long(2, strides=[1], device=cpu) = onnx::Concat[axis=0, onnx_name=\"/Concat\"](%/Unsqueeze_output_0, %/Constant_1_output_0), scope: __main__.Net:: # /tmp/ipykernel_25477/3576900102.py:11:0\n",
      "  %/Reshape_output_0 : Float(*, 784, strides=[784, 1], requires_grad=0, device=cuda:0) = onnx::Reshape[allowzero=0, onnx_name=\"/Reshape\"](%input, %/Concat_output_0), scope: __main__.Net:: # /tmp/ipykernel_25477/3576900102.py:11:0\n",
      "  %/fc1/Gemm_output_0 : Float(*, 128, strides=[128, 1], requires_grad=1, device=cuda:0) = onnx::Gemm[alpha=1., beta=1., transB=1, onnx_name=\"/fc1/Gemm\"](%/Reshape_output_0, %fc1.weight, %fc1.bias), scope: __main__.Net::/torch.nn.modules.linear.Linear::fc1 # /home/fidgetsinner/.local/lib/python3.11/site-packages/torch/nn/modules/linear.py:114:0\n",
      "  %/Relu_output_0 : Float(*, 128, strides=[128, 1], requires_grad=1, device=cuda:0) = onnx::Relu[onnx_name=\"/Relu\"](%/fc1/Gemm_output_0), scope: __main__.Net:: # /home/fidgetsinner/.local/lib/python3.11/site-packages/torch/nn/functional.py:1457:0\n",
      "  %/fc2/Gemm_output_0 : Float(*, 64, strides=[64, 1], requires_grad=1, device=cuda:0) = onnx::Gemm[alpha=1., beta=1., transB=1, onnx_name=\"/fc2/Gemm\"](%/Relu_output_0, %fc2.weight, %fc2.bias), scope: __main__.Net::/torch.nn.modules.linear.Linear::fc2 # /home/fidgetsinner/.local/lib/python3.11/site-packages/torch/nn/modules/linear.py:114:0\n",
      "  %/Relu_1_output_0 : Float(*, 64, strides=[64, 1], requires_grad=1, device=cuda:0) = onnx::Relu[onnx_name=\"/Relu_1\"](%/fc2/Gemm_output_0), scope: __main__.Net:: # /home/fidgetsinner/.local/lib/python3.11/site-packages/torch/nn/functional.py:1457:0\n",
      "  %/fc3/Gemm_output_0 : Float(*, 10, strides=[10, 1], requires_grad=1, device=cuda:0) = onnx::Gemm[alpha=1., beta=1., transB=1, onnx_name=\"/fc3/Gemm\"](%/Relu_1_output_0, %fc3.weight, %fc3.bias), scope: __main__.Net::/torch.nn.modules.linear.Linear::fc3 # /home/fidgetsinner/.local/lib/python3.11/site-packages/torch/nn/modules/linear.py:114:0\n",
      "  %output : Float(*, 10, strides=[10, 1], requires_grad=1, device=cuda:0) = onnx::LogSoftmax[axis=1, onnx_name=\"/LogSoftmax\"](%/fc3/Gemm_output_0), scope: __main__.Net:: # /home/fidgetsinner/.local/lib/python3.11/site-packages/torch/nn/functional.py:1932:0\n",
      "  return (%output)\n",
      "\n",
      "============= Diagnostic Run torch.onnx.export version 2.0.1+cu117 =============\n",
      "verbose: False, log level: Level.ERROR\n",
      "======================= 0 NONE 0 NOTE 0 WARNING 0 ERROR ========================\n",
      "\n"
     ]
    }
   ],
   "source": [
    "# export model to onnx\n",
    "torch.onnx.export(\n",
    "    model,\n",
    "    images,\n",
    "    \"mnist.onnx\",\n",
    "    verbose=True,\n",
    "    input_names=[\"input\"],\n",
    "    output_names=[\"output\"],\n",
    "    dynamic_axes={\n",
    "        \"input\": {0: \"batch_size\"},  # variable length axes\n",
    "        \"output\": {0: \"batch_size\"},\n",
    "    },\n",
    ")\n"
   ]
  }
 ],
 "metadata": {
  "kernelspec": {
   "display_name": "Python 3",
   "language": "python",
   "name": "python3"
  },
  "language_info": {
   "codemirror_mode": {
    "name": "ipython",
    "version": 3
   },
   "file_extension": ".py",
   "mimetype": "text/x-python",
   "name": "python",
   "nbconvert_exporter": "python",
   "pygments_lexer": "ipython3",
   "version": "3.11.3"
  },
  "orig_nbformat": 4
 },
 "nbformat": 4,
 "nbformat_minor": 2
}
